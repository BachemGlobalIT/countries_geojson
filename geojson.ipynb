{
 "cells": [
  {
   "cell_type": "code",
   "execution_count": null,
   "metadata": {},
   "outputs": [],
   "source": [
    "import geopandas as gpd\n",
    "import os\n",
    "\n",
    "# Define the URL for the GeoJSON file\n",
    "url = \"https://raw.githubusercontent.com/johan/world.geo.json/refs/heads/master/countries.geo.json\"\n",
    "\n",
    "# Load the GeoJSON data into a GeoDataFrame\n",
    "world = gpd.read_file(url)\n",
    "\n",
    "# Directory to save individual country files\n",
    "output_directory = \"data\"\n",
    "os.makedirs(output_directory, exist_ok=True)\n",
    "\n",
    "# Save each country as its own GeoJSON file\n",
    "for _, row in world.iterrows():\n",
    "    # Extract country name (adjust the column name if needed)\n",
    "    country_name = row['id']  # Replace 'ADMIN' if your GeoJSON uses a different column name for country names\n",
    "    # Replace spaces in country name with underscores for filename\n",
    "    file_name = f\"{country_name.replace(' ', '_')}.geojson\"\n",
    "    output_path = os.path.join(output_directory, file_name)\n",
    "    # Create a GeoDataFrame for the individual country\n",
    "    country_gdf = gpd.GeoDataFrame([row], columns=world.columns)\n",
    "    # Save the GeoDataFrame as a GeoJSON file\n",
    "    country_gdf.to_file(output_path, driver=\"GeoJSON\")\n",
    "\n",
    "print(f\"Individual country files saved to '{output_directory}'\")"
   ]
  }
 ],
 "metadata": {
  "language_info": {
   "name": "python"
  }
 },
 "nbformat": 4,
 "nbformat_minor": 2
}
